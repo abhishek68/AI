{
  "nbformat": 4,
  "nbformat_minor": 0,
  "metadata": {
    "colab": {
      "name": "Copy of Ml__02.ipynb",
      "private_outputs": true,
      "provenance": [],
      "authorship_tag": "ABX9TyPcxIcaKVej4prObR1Bc8FV",
      "include_colab_link": true
    },
    "kernelspec": {
      "name": "python3",
      "display_name": "Python 3"
    },
    "language_info": {
      "name": "python"
    }
  },
  "cells": [
    {
      "cell_type": "markdown",
      "metadata": {
        "id": "view-in-github",
        "colab_type": "text"
      },
      "source": [
        "<a href=\"https://colab.research.google.com/github/abhishek68/AI/blob/main/Copy_of_Ml__02.ipynb\" target=\"_parent\"><img src=\"https://colab.research.google.com/assets/colab-badge.svg\" alt=\"Open In Colab\"/></a>"
      ]
    },
    {
      "cell_type": "code",
      "execution_count": null,
      "metadata": {
        "id": "BXiYcxTS-z9I"
      },
      "outputs": [],
      "source": [
        "from sklearn.datasets import load_iris\n",
        "iris = load_iris()\n",
        "X = iris.data\n",
        "y = iris.target\n",
        "from sklearn.model_selection import train_test_split\n",
        "X_train, X_test, y_train, y_test = train_test_split(X, y, test_size=0.4, random_state=1)\n",
        "from sklearn.naive_bayes import GaussianNB\n",
        "gnb = GaussianNB()\n",
        "gnb.fit(X_train, y_train)\n",
        "y_pred = gnb.predict(X_test)\n",
        "from sklearn.metrics import accuracy_score,confusion_matrix,classification_report\n",
        "acc=accuracy_score(y_test,y_pred)\n",
        "con=confusion_matrix(y_test,y_pred)\n",
        "cla=classification_report(y_test,y_pred)\n",
        "print(\"--------confusion_matrix--------\")\n",
        "print(con)\n",
        "print(\"-------classification report----\")\n",
        "print(cla)\n",
        "from sklearn import metrics\n",
        "print(\"--------------------------------\")\n",
        "print(\"Gaussian Naive Bayes model accuracy(in %):\", metrics.accuracy_score(y_test, y_pred)*100)\n"
      ]
    }
  ]
}